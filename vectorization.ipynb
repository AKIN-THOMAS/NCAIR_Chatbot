{
 "cells": [
  {
   "cell_type": "code",
   "execution_count": 33,
   "metadata": {},
   "outputs": [],
   "source": [
    "import os\n",
    "import openai\n",
    "import sys\n",
    "sys.path.append('../..')\n",
    "\n",
    "from dotenv import load_dotenv, find_dotenv\n",
    "_ = load_dotenv(find_dotenv()) # read local .env file\n",
    "\n",
    "openai.api_key  = os.environ['OPENAI_API_KEY']"
   ]
  },
  {
   "cell_type": "code",
   "execution_count": 34,
   "metadata": {},
   "outputs": [],
   "source": [
    "# from langchain.document_loaders import PyPDFLoader\n",
    "# loader = PyPDFLoader(\"ncair_data.pdf\")\n",
    "# pages = loader.load()"
   ]
  },
  {
   "cell_type": "code",
   "execution_count": 35,
   "metadata": {},
   "outputs": [
    {
     "data": {
      "text/plain": [
       "[Document(page_content=\"Abuja FabLab 1.0 is the first digital Fabrication Laboratory (FABLAB) in Nigeria, launched by the \\nNational Information Technology Development Agency (NITDA) to promote digital innovation and \\nentrepreneurship. The lab is situated at the National Centre for  Artificial Intelligence and Robotics \\n(NCAIR), a subsidiary of NITDA. Its inauguration took place on May 20, 2022, and it is envisioned to be \\na significant catalyst for technological advancements in the country.  \\n \\nThe primary objective of Abuja FabLab 1.0 i s to encourage startups, innovators, and makers to ideate, \\ndesign, and rapidly prototype digital products that have real -life applications. It serves as a hub where \\naspiring entrepreneurs can bring their ideas to life and transform them into tangible proto types. The \\nlab is equipped with advanced tools and resources that enable users to work with a wide range of \\nmaterials, including iron, wood, electronics, and more, allowing for diverse and innovative projects.  \\n \\nOne of the distinctive features of Abuja FabL ab 1.0 is its open access policy. The lab is free and open \\nto all Nigerians who are passionate about digital innovation and wish to contribute to the country's \\ndigital economy. By maintaining an open access approach, the lab aims to serve as a digital inno vation \\naccelerator, fostering a culture of creativity and entrepreneurship among the nation's youth and \\ninnovators.  \\n \\nUnder the management of the National Centre for Artificial Intelligence and Robotics (NCAIR), Abuja \\nFabLab 1.0 plays a crucial role in prov iding startups with the necessary resources and guidance to \\nconceptualize, design, and prototype their ideas from inception to the final product. It empowers \\nentrepreneurs to turn their research, development, and innovative ideas into concrete and impactfu l \\nsolutions.  \\n \\nAbuja FabLab 1.0 is equipped with state -of-the-art equipment to facilitate rapid prototyping. The lab \\nincludes facilities for producing printed circuit boards (PCBs), computer numerical control (CNC) \\nmachines, 3D printers, servers, graphics p rocessing units (GPUs), and other advanced tools. These \\nresources enable innovators to create prototypes efficiently and move their projects forward with \\nspeed and precision.  \\n \\nThe FABLAB's inauguration was marked by a commissioning ceremony, attended by Ma llam Kashifu \\nAbdullahi, the director -general of NITDA, and Engr. Garba Ya’u, the national director of NCAIR, among \\nother distinguished guests. The event showcased the lab's potential to drive innovation, foster \\ncreative thinking, and contribute to Nigeria' s technological growth.  \\n \\nAbuja FabLab 1.0 promises to be a transformative space that empowers Nigerians to embrace their \\ncreativity, explore cutting -edge technologies, and develop solutions that address real -world \\nchallenges. By providing access to cutting -edge tools and mentorship, the lab aims to position Nigeria \\nas a leading force in the global tech landscape and contribute to the country's journey towards \\nbecoming a digital and innovation -driven economy.  \", metadata={'source': 'datasets\\\\Abuja FabLab 1.pdf', 'page': 0}),\n",
       " Document(page_content='NAIDT AI Class Curriculum  \\n \\nWeek 1  \\nData Science environment setup  \\nIntroduction to numpy and Pandas  \\nExploratory Data Analysis with Pandas, Matplotlib and Seaborn  \\nProject on EDA (Exploratory Data Analysis)  \\n \\nWeek 2  \\n Introduction to Machine Learning (In the form of a project walkthrough).  \\n It should include a typical ML workflow - From Problem statement to Model Deployment  \\n \\n \\n \\nWeek 3  \\nIntroduction to deep learning - A computer vision project walkthrough (FastAI and/or P yTorch but you \\nare more than welcome to use your preferred framework)  \\n \\nIf there is still time, then NLP can come In ( Or you can switch it up, NLP before computer vision)  \\n \\nWeek 4  \\nParticipation in Kaggle or Zindi Competition  \\n ', metadata={'source': 'datasets\\\\AI Class Curriculum.pdf', 'page': 0}),\n",
       " Document(page_content=\"COLLABORATION AND FUNDINGS UNIT STRATEGY DOCUMENT  \\n \\nINTRODUCTION:   \\nThe Collaboration and Fundings Unit (CFU) is a strategic unit within the \\nNational Center for Artificial Intelligence and Robotics (NCAIR)  with the \\npurpose of exploring and executing collaboration opportunities, finding \\nfunding sources and driving business development. The CFU will play a critical \\nrole in ensuring the NCAIR 's sustainability and growth through external \\ncollaborations and fund ing opportunities.  The focus is to seek out funding \\nopportunities and build relationships with partners to increase the impact of \\nthe NCAIR ’s work.  \\nGOAL:  The goal is to increase the NCAIR 's funding portfolio through effective \\ncollaboration, partnership bui lding, grants hunting and business development \\nactivities.  \\nOBJECTIVES:  \\n\\uf0b7 To identify, develop and maintain partnerships and collaborations that \\nsupport the NCAIR ’s mission and objectives.  \\n\\uf0b7 To identify, pursue and secure funding opportunities through grants an d \\nother funding sources.  \\n\\uf0b7 To support business development efforts through the identification of \\nnew opportunities and the development of partnerships and \\ncollaborations.  \\nKEY ACTIVITIES:  \\nCollaboration and Partnership:  \\n\\uf0b7 Develop a comprehensive database of potential partners, including \\ncorporations, foundations, government agencies, and other non -profits.  \\n\\uf0b7 Identifying and evaluating potential partnership opportunities.  \\n\\uf0b7 Establish a regular outreach program to build relationships with \\npotential partners.  \\n\\uf0b7 Create  and implement a strategic plan for collaboration, including the \\nidentification of shared goals, joint projects,  and opportunities for cross -\\npromotion.  \\n\\uf0b7 Establishing and maintaining relationships with key stakeholders and \\npartners.  \\n\\uf0b7 Negotiating and executing  partnership agreements.  \", metadata={'source': 'datasets\\\\COLLABORATION AND FUNDINGS UNIT STRATEGY DOCUMENT.pdf', 'page': 0})]"
      ]
     },
     "execution_count": 35,
     "metadata": {},
     "output_type": "execute_result"
    }
   ],
   "source": [
    "from langchain.document_loaders import PyPDFDirectoryLoader\n",
    "\n",
    "loader = PyPDFDirectoryLoader('./datasets')\n",
    "documents = loader.load()\n",
    "documents[:3]"
   ]
  },
  {
   "cell_type": "code",
   "execution_count": 36,
   "metadata": {},
   "outputs": [],
   "source": [
    "from langchain.text_splitter import RecursiveCharacterTextSplitter\n",
    "text_splitter = RecursiveCharacterTextSplitter(\n",
    "    # separator=\"\\n\",\n",
    "    chunk_size=1500,\n",
    "    chunk_overlap=150,\n",
    "    # length_function=len\n",
    ")"
   ]
  },
  {
   "cell_type": "code",
   "execution_count": 37,
   "metadata": {},
   "outputs": [],
   "source": [
    "docs = text_splitter.split_documents(documents)"
   ]
  },
  {
   "cell_type": "code",
   "execution_count": 38,
   "metadata": {},
   "outputs": [
    {
     "data": {
      "text/plain": [
       "353"
      ]
     },
     "execution_count": 38,
     "metadata": {},
     "output_type": "execute_result"
    }
   ],
   "source": [
    "len(docs)"
   ]
  },
  {
   "cell_type": "code",
   "execution_count": 39,
   "metadata": {},
   "outputs": [],
   "source": [
    "from langchain.embeddings.openai import OpenAIEmbeddings\n",
    "\n",
    "embedding = OpenAIEmbeddings()\n",
    "from langchain.vectorstores import Chroma"
   ]
  },
  {
   "cell_type": "code",
   "execution_count": 40,
   "metadata": {},
   "outputs": [],
   "source": [
    "persist_directory = 'docs/chroma/'"
   ]
  },
  {
   "cell_type": "code",
   "execution_count": 41,
   "metadata": {},
   "outputs": [],
   "source": [
    "# ! rmdir /s/q docs  # remove old database files if any"
   ]
  },
  {
   "cell_type": "markdown",
   "metadata": {},
   "source": [
    "### Create a list of unique ids for each document based on the content"
   ]
  },
  {
   "cell_type": "code",
   "execution_count": 42,
   "metadata": {},
   "outputs": [],
   "source": [
    "import uuid\n",
    "ids = [str(uuid.uuid5(uuid.NAMESPACE_DNS, doc.page_content)) for doc in docs]\n",
    "unique_ids = list(set(ids))"
   ]
  },
  {
   "cell_type": "markdown",
   "metadata": {},
   "source": [
    "### Ensure that only docs that correspond to unique ids are kept and that only one of the duplicate ids is kept"
   ]
  },
  {
   "cell_type": "code",
   "execution_count": 43,
   "metadata": {},
   "outputs": [],
   "source": [
    "seen_ids = set()\n",
    "unique_docs = [doc for doc, id in zip(docs, ids) if id not in seen_ids and (seen_ids.add(id) or True)]"
   ]
  },
  {
   "cell_type": "code",
   "execution_count": 44,
   "metadata": {},
   "outputs": [],
   "source": [
    "vectordb = Chroma.from_documents(\n",
    "    documents=docs,\n",
    "    embedding=embedding,\n",
    "    ids=unique_ids,\n",
    "    persist_directory=persist_directory\n",
    ")"
   ]
  },
  {
   "cell_type": "code",
   "execution_count": 45,
   "metadata": {},
   "outputs": [],
   "source": [
    "vectordb.persist()"
   ]
  },
  {
   "cell_type": "code",
   "execution_count": 46,
   "metadata": {},
   "outputs": [
    {
     "data": {
      "text/plain": [
       "353"
      ]
     },
     "execution_count": 46,
     "metadata": {},
     "output_type": "execute_result"
    }
   ],
   "source": [
    "vectordb._collection.count()"
   ]
  },
  {
   "cell_type": "code",
   "execution_count": 47,
   "metadata": {},
   "outputs": [],
   "source": [
    "question = \"what is ncair\""
   ]
  },
  {
   "cell_type": "code",
   "execution_count": 48,
   "metadata": {},
   "outputs": [
    {
     "data": {
      "text/plain": [
       "[Document(page_content='About NCAIR  \\nThe National Centre for Artificial Intelligence and Robotics (NCAIR) is \\none of NITDA’s special purpose vehicles created to promote research and \\ndevelopment on emerging technologies and their practical application in areas \\nof Nigerian national interest. NCAIR i s also focused on creating a thriving \\necosystem for innovation -driven entrepreneurship (IDE), job creation, and \\nnational development.  \\nFor more info: https://www .ncair.nitda.gov.ng  \\n \\nSigned  \\nMr Kashif Inuwa Abdullahi CCIE  \\nDG/CEO NITDA', metadata={'source': 'datasets\\\\Press Brief - NITDA FABLAB V1 (1).pdf', 'page': 1}),\n",
       " Document(page_content='NCAIR  Contact:  \\n1. 08178778499  \\n2. 08178778501  \\nHead Office: NCAIR Building, suite 5 wilflox plaza, Wuye, Abuja . Email:  \\nemail: ncair@nitda.gov.ng  \\nInstagram: https://www.instagram.com/ncairnigeria/   \\nTwitter: https://twitter.com/NCAIRNigeria  \\nLinkedIn: https://www.linkedin.com/in/ncair -nigeria -\\n49b63820a/?originalSubdomain=ng  \\n \\n \\n \\nServices:  \\n1. ROBOTICS  AND  DRONES   \\n2. VIRTUAL  AND  AUGMENTED  REALITY  \\n3. ARTIFICIAL  INTELLIGENCE  \\n4. INTERNET  of THINGS  (IoT)  \\n5. BLOCKCHAIN  \\n \\n \\nUnits:  \\n1. Corporate  Liaison  and Advocacy  \\nThe unit explores R&D efforts from local institutions (like universities and research institutes) and  \\nidentifies harnessable innovative ideas with potentials for commercialization.  It also coordinates  \\nresearch visits to the center, like sabbatical tenancy for visiting researchers, and serves as the  \\ninteraction link with the other entities in the ecosystem – Office for Nigerian Digital Innovation (ONDI),  \\nMIT Regiona l Entrepreneurship  Acceleration  Program  (MIT -REAP),  and Mass  Challenge  programs.  \\nAdditionally,  the unit serves  as the business  face of the center,  projecting  and coordinating  the \\ncenter’s  digital  consultancy  services  to other  government  agencies  and private  entities.  \\n \\nThe unit promotes  the center and  its activities  through  public  relations  and advocacy  programs  and \\nmaintains a strong online presence via social media outlets and effective website deployment and', metadata={'source': 'datasets\\\\ncair_data.pdf', 'page': 0})]"
      ]
     },
     "execution_count": 48,
     "metadata": {},
     "output_type": "execute_result"
    }
   ],
   "source": [
    "quest = vectordb.similarity_search(question,k=2)\n",
    "# quest = vectordb.max_marginal_relevance_search(question, k=2)\n",
    "quest"
   ]
  }
 ],
 "metadata": {
  "kernelspec": {
   "display_name": "customchat",
   "language": "python",
   "name": "python3"
  },
  "language_info": {
   "codemirror_mode": {
    "name": "ipython",
    "version": 3
   },
   "file_extension": ".py",
   "mimetype": "text/x-python",
   "name": "python",
   "nbconvert_exporter": "python",
   "pygments_lexer": "ipython3",
   "version": "3.10.8"
  },
  "orig_nbformat": 4
 },
 "nbformat": 4,
 "nbformat_minor": 2
}
